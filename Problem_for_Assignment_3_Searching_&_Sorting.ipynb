{
  "nbformat": 4,
  "nbformat_minor": 0,
  "metadata": {
    "colab": {
      "provenance": [],
      "authorship_tag": "ABX9TyMX1eSbN07qOSC9WZb5UvAJ"
    },
    "kernelspec": {
      "name": "python3",
      "display_name": "Python 3"
    },
    "language_info": {
      "name": "python"
    }
  },
  "cells": [
    {
      "cell_type": "markdown",
      "source": [
        "## **1. Implement Binary Search**"
      ],
      "metadata": {
        "id": "vtQIZ4Aqu4ch"
      }
    },
    {
      "cell_type": "code",
      "source": [
        "def binary_search(arr, target):\n",
        "    low, high = 0, len(arr) - 1\n",
        "\n",
        "    while low <= high:\n",
        "        mid = (low + high) // 2\n",
        "        if arr[mid] == target:\n",
        "            return mid\n",
        "        elif arr[mid] < target:\n",
        "            low = mid + 1\n",
        "        else:\n",
        "            high = mid - 1\n",
        "\n",
        "    return -1\n",
        "\n",
        "# Example usage with user input:\n",
        "arr = list(map(int, input(\"Enter a sorted list of integers (space-separated): \").split()))\n",
        "target = int(input(\"Enter the target element to search for: \"))\n",
        "index = binary_search(arr, target)\n",
        "if index != -1:\n",
        "    print(f\"Element {target} found at index {index}\")\n",
        "else:\n",
        "    print(\"Element not found.\")\n"
      ],
      "metadata": {
        "colab": {
          "base_uri": "https://localhost:8080/"
        },
        "id": "Z5xZ3rEivSI-",
        "outputId": "d52c8eec-7941-4eed-a62b-838a606a5c51"
      },
      "execution_count": 2,
      "outputs": [
        {
          "output_type": "stream",
          "name": "stdout",
          "text": [
            "Enter a sorted list of integers (space-separated): 4 5 6 7 8 9\n",
            "Enter the target element to search for: 5\n",
            "Element 5 found at index 1\n"
          ]
        }
      ]
    },
    {
      "cell_type": "markdown",
      "source": [
        "## **2. Implement Merge Sort**"
      ],
      "metadata": {
        "id": "mGY1cl7Hu7sY"
      }
    },
    {
      "cell_type": "code",
      "source": [
        "def merge_sort(arr):\n",
        "    if len(arr) <= 1:\n",
        "        return arr\n",
        "\n",
        "    mid = len(arr) // 2\n",
        "    left_half = merge_sort(arr[:mid])\n",
        "    right_half = merge_sort(arr[mid:])\n",
        "\n",
        "    return merge(left_half, right_half)\n",
        "\n",
        "def merge(left, right):\n",
        "    result = []\n",
        "    left_idx, right_idx = 0, 0\n",
        "\n",
        "    while left_idx < len(left) and right_idx < len(right):\n",
        "        if left[left_idx] < right[right_idx]:\n",
        "            result.append(left[left_idx])\n",
        "            left_idx += 1\n",
        "        else:\n",
        "            result.append(right[right_idx])\n",
        "            right_idx += 1\n",
        "\n",
        "    result.extend(left[left_idx:])\n",
        "    result.extend(right[right_idx:])\n",
        "    return result\n",
        "\n",
        "# Example usage with user input:\n",
        "arr = list(map(int, input(\"Enter a list of integers (space-separated): \").split()))\n",
        "sorted_arr = merge_sort(arr)\n",
        "print(\"Sorted array:\", sorted_arr)\n"
      ],
      "metadata": {
        "colab": {
          "base_uri": "https://localhost:8080/"
        },
        "id": "1PGL7llFvStS",
        "outputId": "6ce13aa8-60f5-43ed-b9ee-8e0f294f3546"
      },
      "execution_count": 4,
      "outputs": [
        {
          "output_type": "stream",
          "name": "stdout",
          "text": [
            "Enter a list of integers (space-separated):  5 2 4 1 6 3 7 8 9 \n",
            "Sorted array: [1, 2, 3, 4, 5, 6, 7, 8, 9]\n"
          ]
        }
      ]
    },
    {
      "cell_type": "markdown",
      "source": [
        "## **3. Implement Quick Sort**"
      ],
      "metadata": {
        "id": "LSkg0PuKvArA"
      }
    },
    {
      "cell_type": "code",
      "source": [
        "def quick_sort(arr):\n",
        "    if len(arr) <= 1:\n",
        "        return arr\n",
        "\n",
        "    pivot = arr[len(arr) // 2]\n",
        "    left = [x for x in arr if x < pivot]\n",
        "    middle = [x for x in arr if x == pivot]\n",
        "    right = [x for x in arr if x > pivot]\n",
        "\n",
        "    return quick_sort(left) + middle + quick_sort(right)\n",
        "\n",
        "# Example usage with user input:\n",
        "arr = list(map(int, input(\"Enter a list of integers (space-separated): \").split()))\n",
        "sorted_arr = quick_sort(arr)\n",
        "print(\"Sorted array:\", sorted_arr)\n"
      ],
      "metadata": {
        "colab": {
          "base_uri": "https://localhost:8080/"
        },
        "id": "jaqJZoF_vTjY",
        "outputId": "40bd6c52-dfd1-4ad3-a739-de958e284987"
      },
      "execution_count": 5,
      "outputs": [
        {
          "output_type": "stream",
          "name": "stdout",
          "text": [
            "Enter a list of integers (space-separated):  4 0 5  2 3  6 9 8 7\n",
            "Sorted array: [0, 2, 3, 4, 5, 6, 7, 8, 9]\n"
          ]
        }
      ]
    },
    {
      "cell_type": "markdown",
      "source": [
        "## **4. Implement Insertion Sort**"
      ],
      "metadata": {
        "id": "JBgZe0IavFI_"
      }
    },
    {
      "cell_type": "code",
      "source": [
        "def insertion_sort(arr):\n",
        "    for i in range(1, len(arr)):\n",
        "        key = arr[i]\n",
        "        j = i - 1\n",
        "        while j >= 0 and key < arr[j]:\n",
        "            arr[j + 1] = arr[j]\n",
        "            j -= 1\n",
        "        arr[j + 1] = key\n",
        "\n",
        "# Example usage with user input:\n",
        "arr = list(map(int, input(\"Enter a list of integers (space-separated): \").split()))\n",
        "insertion_sort(arr)\n",
        "print(\"Sorted array:\", arr)\n"
      ],
      "metadata": {
        "colab": {
          "base_uri": "https://localhost:8080/"
        },
        "id": "8seyV8qFvUFg",
        "outputId": "26cb2bc8-85eb-4d4f-88a9-0fbe96892252"
      },
      "execution_count": 6,
      "outputs": [
        {
          "output_type": "stream",
          "name": "stdout",
          "text": [
            "Enter a list of integers (space-separated):  7 4 8 5 9 6 1 2 3\n",
            "Sorted array: [1, 2, 3, 4, 5, 6, 7, 8, 9]\n"
          ]
        }
      ]
    },
    {
      "cell_type": "markdown",
      "source": [
        "## **5. Write a program to sort list of strings (similar to that of dictionary)**"
      ],
      "metadata": {
        "id": "3TaYRuObvKfp"
      }
    },
    {
      "cell_type": "code",
      "source": [
        "def sort_strings_like_dictionary(strings_list):\n",
        "    return sorted(strings_list)\n",
        "\n",
        "# Example usage with user input:\n",
        "strings_list = input(\"Enter a list of strings (space-separated): \").split()\n",
        "sorted_strings = sort_strings_like_dictionary(strings_list)\n",
        "print(\"Sorted strings:\", sorted_strings)\n"
      ],
      "metadata": {
        "colab": {
          "base_uri": "https://localhost:8080/"
        },
        "id": "w1HvxEGVvUlJ",
        "outputId": "67b2a2f0-7b2a-4f56-8729-f3aafae4725f"
      },
      "execution_count": 7,
      "outputs": [
        {
          "output_type": "stream",
          "name": "stdout",
          "text": [
            "Enter a list of strings (space-separated):  2 5 3 4 1 6 7 9 8 \n",
            "Sorted strings: ['1', '2', '3', '4', '5', '6', '7', '8', '9']\n"
          ]
        }
      ]
    }
  ]
}