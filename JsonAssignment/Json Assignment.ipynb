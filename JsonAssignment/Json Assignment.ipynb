{
 "cells": [
  {
   "cell_type": "markdown",
   "id": "e8d418af",
   "metadata": {},
   "source": [
    "# Assignment 1\n",
    "### 👉 1. Create a JSON file (employee.json) containing employee information of minimum 5 employees. \n",
    "### Each employee information consists of Name, DOB, Height, City, State. \n",
    "### Write a python program that reads this information from the JSON file and saves the information into a list of objects of Employee class. Finally print the list of the Employee objects."
   ]
  },
  {
   "cell_type": "code",
   "execution_count": 2,
   "id": "c5fa60cc",
   "metadata": {},
   "outputs": [
    {
     "name": "stdout",
     "output_type": "stream",
     "text": [
      "Name: Mary Jane\n",
      "DOB: 1990-03-15\n",
      "Height: 175\n",
      "City: New York\n",
      "State: New York\n",
      "\n",
      "Name: Bill Clinton\n",
      "DOB: 1985-09-10\n",
      "Height: 162\n",
      "City: Los Angeles\n",
      "State: California\n",
      "\n",
      "Name: Dwayne Johnson\n",
      "DOB: 1988-07-25\n",
      "Height: 180\n",
      "City: Chicago\n",
      "State: Illinois\n",
      "\n",
      "Name: Bruce Bannon\n",
      "DOB: 1992-12-05\n",
      "Height: 168\n",
      "City: Houston\n",
      "State: Texas\n",
      "\n",
      "Name: Michael Jackson\n",
      "DOB: 1995-06-20\n",
      "Height: 170\n",
      "City: Miami\n",
      "State: Florida\n",
      "\n"
     ]
    }
   ],
   "source": [
    "import json\n",
    "\n",
    "class Employee:\n",
    "    def __init__(self, name, dob, height, city, state):\n",
    "        self.name = name\n",
    "        self.dob = dob\n",
    "        self.height = height\n",
    "        self.city = city\n",
    "        self.state = state\n",
    "\n",
    "def main():\n",
    "    try:\n",
    "        with open('employee.json', 'r') as json_file:\n",
    "            data = json.load(json_file)\n",
    "            employee_list = []\n",
    "            for emp_info in data[\"employees\"]:\n",
    "                employee = Employee(emp_info[\"Name\"],\n",
    "                                    emp_info[\"DOB\"],\n",
    "                                    emp_info[\"Height\"],\n",
    "                                    emp_info[\"City\"],\n",
    "                                    emp_info[\"State\"])\n",
    "                employee_list.append(employee)\n",
    "\n",
    "        # Printing the list of Employee objects\n",
    "        for employee in employee_list:\n",
    "            print(\"Name:\", employee.name)\n",
    "            print(\"DOB:\", employee.dob)\n",
    "            print(\"Height:\", employee.height)\n",
    "            print(\"City:\", employee.city)\n",
    "            print(\"State:\", employee.state)\n",
    "            print()\n",
    "\n",
    "    except FileNotFoundError:\n",
    "        print(\"Error: The 'employee.json' file not found.\")\n",
    "    except json.JSONDecodeError:\n",
    "        print(\"Error: Unable to parse 'employee.json'. Check if the file is in valid JSON format.\")\n",
    "    except Exception as e:\n",
    "        print(\"An error occurred:\", str(e))\n",
    "\n",
    "if __name__ == \"__main__\":\n",
    "    main()\n"
   ]
  },
  {
   "cell_type": "markdown",
   "id": "ae235bee",
   "metadata": {},
   "source": [
    "### 👉 2. Create a dictionary of any 7 Indian states and their capitals. Write this into a JSON file."
   ]
  },
  {
   "cell_type": "code",
   "execution_count": 4,
   "id": "0f065c25",
   "metadata": {},
   "outputs": [
    {
     "name": "stdout",
     "output_type": "stream",
     "text": [
      "Data has been saved in the file: 'indian_states.json'.\n"
     ]
    }
   ],
   "source": [
    "import json\n",
    "\n",
    "def main():\n",
    "    # Creating a dictionary of Indian states and their capitals\n",
    "    indian_states = {\n",
    "        \"Andhra Pradesh\": \"Amaravati\",\n",
    "        \"Karnataka\": \"Bengaluru\",\n",
    "        \"Maharashtra\": \"Mumbai\",\n",
    "        \"Tamil Nadu\": \"Chennai\",\n",
    "        \"Uttar Pradesh\": \"Lucknow\",\n",
    "        \"Gujarat\": \"Gandhinagar\",\n",
    "        \"Rajasthan\": \"Jaipur\"\n",
    "    }\n",
    "\n",
    "    # Writing the dictionary into a JSON file\n",
    "    try:\n",
    "        with open('indian_states.json', 'w') as json_file:\n",
    "            json.dump(indian_states, json_file, indent=4)\n",
    "        print(\"Data has been saved in the file: 'indian_states.json'.\")\n",
    "\n",
    "    except Exception as e:\n",
    "        print(\"An error occurred while saving data to 'indian_states.json':\", str(e))\n",
    "\n",
    "if __name__ == \"__main__\":\n",
    "    main()\n"
   ]
  },
  {
   "cell_type": "markdown",
   "id": "bb197acd",
   "metadata": {},
   "source": [
    "# Assignment 2\n",
    "### 👉 1. Create a class named ‘Dog’. It should have a constructor which accepts its name, age and coat color. You must perform the following operations:"
   ]
  },
  {
   "cell_type": "code",
   "execution_count": 8,
   "id": "194236ad",
   "metadata": {},
   "outputs": [
    {
     "name": "stdout",
     "output_type": "stream",
     "text": [
      "Enter the Name of the Dog: Doggo\n",
      "Enter the Age of the Dog: 2\n",
      "Enter the Coat Color of the Dog: black\n",
      "Is the Dog a Jack Russell Terrier? (yes/no): Yes\n",
      "Enter the skill level of the dog out of 10: 7\n",
      "Doggo is 2 years old.\n",
      "Doggo's coat color is black.\n",
      "Doggo's skill level is 7 /10.\n"
     ]
    }
   ],
   "source": [
    "class Dog:\n",
    "    def __init__(self, name, age, coat_color):\n",
    "        self.name = name\n",
    "        self.age = age\n",
    "        self.coat_color = coat_color\n",
    "\n",
    "    def description(self):\n",
    "        print(f\"{self.name} is {self.age} years old.\")\n",
    "\n",
    "    def get_info(self):\n",
    "        print(f\"{self.name}'s coat color is {self.coat_color}.\")\n",
    "\n",
    "\n",
    "class JackRussellTerrier(Dog):\n",
    "    def __init__(self, name, age, coat_color, dog_skill):\n",
    "        super().__init__(name, age, coat_color)\n",
    "        self.dog_skill = dog_skill\n",
    "\n",
    "    def show_dog_skill(self):\n",
    "        print(f\"{self.name}'s skill level is {self.dog_skill} /10.\")\n",
    "\n",
    "\n",
    "class Bulldog(Dog):\n",
    "    def __init__(self, name, age, coat_color, weight):\n",
    "        super().__init__(name, age, coat_color)\n",
    "        self.weight = weight\n",
    "\n",
    "    def show_weight(self):\n",
    "        print(f\"{self.name} weighs {self.weight} kilograms.\")\n",
    "\n",
    "\n",
    "def main():\n",
    "    # Taking inputs from the user\n",
    "    name = input(\"Enter the Name of the Dog: \")\n",
    "    age = int(input(\"Enter the Age of the Dog: \"))\n",
    "    coat_color = input(\"Enter the Coat Color of the Dog: \")\n",
    "\n",
    "    is_jack_russell = input(\"Is the Dog a Jack Russell Terrier? (yes/no): \").lower()\n",
    "    if is_jack_russell == \"yes\":\n",
    "        dog_skill = input(\"Enter the skill level of the dog out of 10: \")\n",
    "        dog = JackRussellTerrier(name, age, coat_color, dog_skill)\n",
    "    else:\n",
    "        weight = float(input(\"Enter the weight of the Dog in Kilograms: \"))\n",
    "        dog = Bulldog(name, age, coat_color, weight)\n",
    "\n",
    "    dog.description()\n",
    "    dog.get_info()\n",
    "\n",
    "    if is_jack_russell == \"yes\":\n",
    "        dog.show_dog_skill()\n",
    "    else:\n",
    "        dog.show_weight()\n",
    "\n",
    "\n",
    "if __name__ == \"__main__\":\n",
    "    main()\n"
   ]
  },
  {
   "cell_type": "code",
   "execution_count": null,
   "id": "08249787",
   "metadata": {},
   "outputs": [],
   "source": []
  }
 ],
 "metadata": {
  "kernelspec": {
   "display_name": "Python 3 (ipykernel)",
   "language": "python",
   "name": "python3"
  },
  "language_info": {
   "codemirror_mode": {
    "name": "ipython",
    "version": 3
   },
   "file_extension": ".py",
   "mimetype": "text/x-python",
   "name": "python",
   "nbconvert_exporter": "python",
   "pygments_lexer": "ipython3",
   "version": "3.11.3"
  }
 },
 "nbformat": 4,
 "nbformat_minor": 5
}
