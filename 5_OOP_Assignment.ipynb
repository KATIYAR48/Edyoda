{
  "nbformat": 4,
  "nbformat_minor": 0,
  "metadata": {
    "colab": {
      "provenance": []
    },
    "kernelspec": {
      "name": "python3",
      "display_name": "Python 3"
    },
    "language_info": {
      "name": "python"
    }
  },
  "cells": [
    {
      "cell_type": "markdown",
      "source": [
        "# **OOP Assignment**"
      ],
      "metadata": {
        "id": "fI2qpOJO050u"
      }
    },
    {
      "cell_type": "markdown",
      "source": [
        "***Challenge 1: Square Numbers and Return Their Sum***"
      ],
      "metadata": {
        "id": "Yf0J58iM0PH1"
      }
    },
    {
      "cell_type": "code",
      "execution_count": 1,
      "metadata": {
        "colab": {
          "base_uri": "https://localhost:8080/"
        },
        "id": "OcqG8QJOkZxW",
        "outputId": "273294ec-de01-49cb-fa74-0e083b294cb2"
      },
      "outputs": [
        {
          "output_type": "stream",
          "name": "stdout",
          "text": [
            "Enter the value of x: 1\n",
            "Enter the value of y: 2\n",
            "Enter the value of z: 3\n",
            "1\n",
            "2\n",
            "3\n",
            "14\n"
          ]
        }
      ],
      "source": [
        "class Point:\n",
        "    def __init__(self, x, y, z):\n",
        "        self.x = x\n",
        "        self.y = y\n",
        "        self.z = z\n",
        "\n",
        "    def sqSum(self):\n",
        "        return self.x ** 2 + self.y ** 2 + self.z ** 2\n",
        "\n",
        "\n",
        "# Take user inputs for x, y, and z\n",
        "x = int(input(\"Enter the value of x: \"))\n",
        "y = int(input(\"Enter the value of y: \"))\n",
        "z = int(input(\"Enter the value of z: \"))\n",
        "\n",
        "\n",
        "p = Point(x, y, z)\n",
        "\n",
        "# Access properties\n",
        "print(p.x)\n",
        "print(p.y)\n",
        "print(p.z)\n",
        "\n",
        "# Call the sqSum method\n",
        "result = p.sqSum()\n",
        "print(result)\n"
      ]
    },
    {
      "cell_type": "markdown",
      "source": [
        "***Challenge 2: Implement a Calculator Class***"
      ],
      "metadata": {
        "id": "hPGHzPLT1Oz0"
      }
    },
    {
      "cell_type": "code",
      "source": [
        "class Calculator:\n",
        "    def __init__(self, num1, num2):\n",
        "        self.num1 = num1\n",
        "        self.num2 = num2\n",
        "\n",
        "    def add(self):\n",
        "        return self.num1 + self.num2\n",
        "\n",
        "    def subtract(self):\n",
        "        return self.num1 - self.num2\n",
        "\n",
        "    def multiply(self):\n",
        "        return self.num1 * self.num2\n",
        "\n",
        "    def divide(self):\n",
        "        return self.num1 / self.num2\n",
        "\n",
        "# Taking inputs from the user\n",
        "num1 = float(input(\"Enter the first number: \"))\n",
        "num2 = float(input(\"Enter the second number: \"))\n",
        "action = int(input(\"Enter the action (1: Addition, 2: Subtraction, 3: Multiplication, 4: Division): \"))\n",
        "\n",
        "# Creating an instance of the Calculator class\n",
        "obj = Calculator(num1, num2)\n",
        "\n",
        "# Performing the selected calculation based on the user's input as 1/2/3/4\n",
        "if action == 1:\n",
        "    result = obj.add()\n",
        "    operator = \"+\"\n",
        "    operation = \"Addition\"\n",
        "elif action == 2:\n",
        "    result = obj.subtract()\n",
        "    operator = \"-\"\n",
        "    operation = \"Subtraction\"\n",
        "elif action == 3:\n",
        "    result = obj.multiply()\n",
        "    operator = \"*\"\n",
        "    operation = \"Multiplication\"\n",
        "elif action == 4:\n",
        "    result = obj.divide()\n",
        "    operator = \"/\"\n",
        "    operation = \"Division\"\n",
        "else:\n",
        "    print(\"Invalid action selected.\")\n",
        "    exit()\n",
        "\n",
        "# Printing the result of the selected calculation with the operation and the operator\n",
        "print(f\"the {operation} is {num1} {operator} {num2} : {result}\")\n"
      ],
      "metadata": {
        "colab": {
          "base_uri": "https://localhost:8080/"
        },
        "id": "BWTwofZwlMq3",
        "outputId": "4298680d-77ae-4cb9-d929-c63579d2730d"
      },
      "execution_count": 10,
      "outputs": [
        {
          "output_type": "stream",
          "name": "stdout",
          "text": [
            "Enter the first number: 1\n",
            "Enter the second number: 2\n",
            "Enter the action (1: Addition, 2: Subtraction, 3: Multiplication, 4: Division): 4\n",
            "the Division is 1.0 / 2.0 : 0.5\n"
          ]
        }
      ]
    },
    {
      "cell_type": "markdown",
      "source": [
        "***Challenge 3: Implement the Complete Student Class***"
      ],
      "metadata": {
        "id": "7RiGkVwq1bAi"
      }
    },
    {
      "cell_type": "code",
      "source": [
        "class Student:\n",
        "    def __init__(self):\n",
        "        self.__name = None\n",
        "        self.__rollNumber = None\n",
        "\n",
        "    def setName(self, name):\n",
        "        self.__name = name\n",
        "\n",
        "    def getName(self):\n",
        "        return self.__name\n",
        "\n",
        "    def setRollNumber(self, rollNumber):\n",
        "        self.__rollNumber = rollNumber\n",
        "\n",
        "    def getRollNumber(self):\n",
        "        return self.__rollNumber\n",
        "\n",
        "\n",
        "student = Student()\n",
        "\n",
        "# Taking input for name and roll number\n",
        "name = input(\"Enter the student's name: \")\n",
        "rollNumber = input(\"Enter the student's roll number: \")\n",
        "\n",
        "# Setting the name and roll number\n",
        "student.setName(name)\n",
        "student.setRollNumber(rollNumber)\n",
        "\n",
        "# Getting the name and roll number\n",
        "print(\"Name:\", student.getName())\n",
        "print(\"Roll Number:\", student.getRollNumber())\n"
      ],
      "metadata": {
        "colab": {
          "base_uri": "https://localhost:8080/"
        },
        "id": "iyKslE9wr3St",
        "outputId": "1372a4a9-d90b-48da-f846-c69f1c32d609"
      },
      "execution_count": 11,
      "outputs": [
        {
          "output_type": "stream",
          "name": "stdout",
          "text": [
            "Enter the student's name: Nishant\n",
            "Enter the student's roll number: 12123456\n",
            "Name: Nishant\n",
            "Roll Number: 12123456\n"
          ]
        }
      ]
    },
    {
      "cell_type": "markdown",
      "source": [
        "***Challenge 4: Implement a Banking Account***"
      ],
      "metadata": {
        "id": "F0ev8i8z1ijW"
      }
    },
    {
      "cell_type": "code",
      "source": [
        "class Account:\n",
        "    def __init__(self, title, balance):\n",
        "        self.title = title\n",
        "        self.balance = balance\n",
        "\n",
        "\n",
        "class SavingsAccount(Account):\n",
        "    def __init__(self, title, balance, interestRate):\n",
        "        super().__init__(title, balance)\n",
        "        self.interestRate = interestRate\n",
        "\n",
        "\n",
        "savingsAccountTitle = input(\"Enter the savings account title: \")\n",
        "savingsAccountBalance = float(input(\"Enter the savings account balance: \"))\n",
        "interestRate = float(input(\"Enter the interest rate: \"))\n",
        "\n",
        "\n",
        "savingsAccount = SavingsAccount(savingsAccountTitle, savingsAccountBalance, interestRate)\n",
        "\n",
        "# Printing the details\n",
        "print(\"Account Title:\", savingsAccount.title)\n",
        "print(\"Account Balance:\", savingsAccount.balance)\n",
        "print(\"Interest Rate:\", savingsAccount.interestRate)\n"
      ],
      "metadata": {
        "colab": {
          "base_uri": "https://localhost:8080/"
        },
        "id": "InUg0jejsdFk",
        "outputId": "61627fdc-69d2-4650-f8c9-72997debe2ac"
      },
      "execution_count": 13,
      "outputs": [
        {
          "output_type": "stream",
          "name": "stdout",
          "text": [
            "Enter the savings account title: Nishant\n",
            "Enter the savings account balance: 10000\n",
            "Enter the interest rate: 5\n",
            "Account Title: Nishant\n",
            "Account Balance: 10000.0\n",
            "Interest Rate: 5.0\n"
          ]
        }
      ]
    },
    {
      "cell_type": "markdown",
      "source": [
        "***Challenge 5: Handling a Bank Account***"
      ],
      "metadata": {
        "id": "QS0tyvF81zBt"
      }
    },
    {
      "cell_type": "code",
      "source": [
        "class Account:\n",
        "    def __init__(self, title=None, balance=0):\n",
        "        self.title = title\n",
        "        self.balance = balance\n",
        "\n",
        "    def withdrawal(self, amount):\n",
        "        self.balance -= amount\n",
        "\n",
        "    def deposit(self, amount):\n",
        "        self.balance += amount\n",
        "\n",
        "    def getBalance(self):\n",
        "        return self.balance\n",
        "\n",
        "\n",
        "class SavingsAccount(Account):\n",
        "    def __init__(self, title=None, balance=0, interestRate=0):\n",
        "        super().__init__(title, balance)\n",
        "        self.interestRate = interestRate\n",
        "\n",
        "    def interestAmount(self):\n",
        "        return (self.balance * self.interestRate) / 100\n",
        "\n",
        "    def getTotalBalance(self):\n",
        "        return self.balance + self.interestAmount()\n",
        "\n",
        "\n",
        "title = input(\"Enter the Account Title: \")\n",
        "balance = float(input(\"Enter the Initial Balance: \"))\n",
        "interestRate = float(input(\"Enter the Interest Rate: \"))\n",
        "\n",
        "# SavingsAccount object with user inputs\n",
        "demo1 = SavingsAccount(title, balance, interestRate)\n",
        "\n",
        "amount_to_deposit = float(input(\"Enter Amount to be Deposited: \"))\n",
        "demo1.deposit(amount_to_deposit)\n",
        "\n",
        "amount_to_withdraw = float(input(\"Enter Amount to Withdraw: \"))\n",
        "demo1.withdrawal(amount_to_withdraw)\n",
        "\n",
        "print(\"Current Balance is :\", demo1.getBalance())\n",
        "print(\"Interest Amount will be :\", demo1.interestAmount())\n",
        "print(\"Total balance:\", demo1.getTotalBalance())"
      ],
      "metadata": {
        "colab": {
          "base_uri": "https://localhost:8080/"
        },
        "id": "RDW8OnY7varb",
        "outputId": "4f441a39-c420-4ead-ae11-20f4da0ef5bd"
      },
      "execution_count": 24,
      "outputs": [
        {
          "output_type": "stream",
          "name": "stdout",
          "text": [
            "Enter the Account Title: Nishant\n",
            "Enter the Initial Balance: 10000\n",
            "Enter the Interest Rate: 5\n",
            "Enter Amount to be Deposited: 10000\n",
            "Enter Amount to Withdraw: 10000\n",
            "Current Balance is : 10000.0\n",
            "Interest Amount will be : 500.0\n",
            "Total balance: 10500.0\n"
          ]
        }
      ]
    }
  ]
}