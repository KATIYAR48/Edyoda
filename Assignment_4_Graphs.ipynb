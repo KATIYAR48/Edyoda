{
  "nbformat": 4,
  "nbformat_minor": 0,
  "metadata": {
    "colab": {
      "provenance": [],
      "authorship_tag": "ABX9TyPht13AOMNUCOK5O1e/orgW"
    },
    "kernelspec": {
      "name": "python3",
      "display_name": "Python 3"
    },
    "language_info": {
      "name": "python"
    }
  },
  "cells": [
    {
      "cell_type": "markdown",
      "source": [
        "### 1. Breadth First Traversal for a Graph"
      ],
      "metadata": {
        "id": "fwApq3SPTJbv"
      }
    },
    {
      "cell_type": "code",
      "execution_count": 9,
      "metadata": {
        "id": "Xy-aYXWPQpaD"
      },
      "outputs": [],
      "source": [
        "from collections import defaultdict, deque\n",
        "\n",
        "class Graph:\n",
        "    def __init__(self):\n",
        "        self.graph = defaultdict(list)\n",
        "\n",
        "    def add_edge(self, u, v):\n",
        "        self.graph[u].append(v)\n",
        "\n",
        "    def breadth_first_traversal(self, start):\n",
        "        visited = set()\n",
        "        queue = deque([start])\n",
        "        visited.add(start)\n",
        "\n",
        "        while queue:\n",
        "            node = queue.popleft()\n",
        "            print(node, end=\" \")\n",
        "\n",
        "            for neighbor in self.graph[node]:\n",
        "                if neighbor not in visited:\n",
        "                    queue.append(neighbor)\n",
        "                    visited.add(neighbor)\n"
      ]
    },
    {
      "cell_type": "markdown",
      "source": [
        "### 2. Depth First Traversal for a Graph"
      ],
      "metadata": {
        "id": "8N85ClGeTMyl"
      }
    },
    {
      "cell_type": "code",
      "source": [
        "from collections import defaultdict\n",
        "\n",
        "class Graph:\n",
        "    def __init__(self):\n",
        "        self.graph = defaultdict(list)\n",
        "\n",
        "    def add_edge(self, u, v):\n",
        "        self.graph[u].append(v)\n",
        "\n",
        "    def depth_first_traversal(self, node, visited):\n",
        "        visited[node] = True\n",
        "        print(node, end=\" \")\n",
        "\n",
        "        for neighbor in self.graph[node]:\n",
        "            if not visited[neighbor]:\n",
        "                self.depth_first_traversal(neighbor, visited)\n",
        "\n",
        "    def dfs(self, start):\n",
        "        visited = [False] * len(self.graph)\n",
        "        self.depth_first_traversal(start, visited)"
      ],
      "metadata": {
        "id": "CiA1Sz87TIw_"
      },
      "execution_count": 11,
      "outputs": []
    },
    {
      "cell_type": "markdown",
      "source": [
        "### 3. Count the number of nodes at given level in a tree using BFS"
      ],
      "metadata": {
        "id": "NDu5kUQVR2G4"
      }
    },
    {
      "cell_type": "code",
      "source": [
        "from collections import defaultdict, deque\n",
        "\n",
        "class Tree:\n",
        "    def __init__(self):\n",
        "        self.graph = defaultdict(list)\n",
        "\n",
        "    def add_edge(self, u, v):\n",
        "        self.graph[u].append(v)\n",
        "\n",
        "    def count_nodes_at_level(self, root, level):\n",
        "        queue = deque([(root, 0)])\n",
        "        count = 0\n",
        "\n",
        "        while queue:\n",
        "            node, current_level = queue.popleft()\n",
        "\n",
        "            if current_level == level:\n",
        "                count += 1\n",
        "\n",
        "            for neighbor in self.graph[node]:\n",
        "                queue.append((neighbor, current_level + 1))\n",
        "\n",
        "        return count\n"
      ],
      "metadata": {
        "id": "5SoEY6-fR2qn"
      },
      "execution_count": 10,
      "outputs": []
    },
    {
      "cell_type": "markdown",
      "source": [
        "### 4. Count number of trees in a forest"
      ],
      "metadata": {
        "id": "GYnqPhOzR6Df"
      }
    },
    {
      "cell_type": "code",
      "source": [
        "from collections import defaultdict\n",
        "\n",
        "class Graph:\n",
        "    def __init__(self):\n",
        "        self.graph = defaultdict(list)\n",
        "\n",
        "    def add_edge(self, u, v):\n",
        "        self.graph[u].append(v)\n",
        "\n",
        "    def dfs(self, node, visited):\n",
        "        visited[node] = True\n",
        "\n",
        "        for neighbor in self.graph[node]:\n",
        "            if not visited[neighbor]:\n",
        "                self.dfs(neighbor, visited)\n",
        "\n",
        "    def count_trees_in_forest(self):\n",
        "        visited = [False] * len(self.graph)\n",
        "        tree_count = 0\n",
        "\n",
        "        for node in self.graph:\n",
        "            if not visited[node]:\n",
        "                tree_count += 1\n",
        "                self.dfs(node, visited)\n",
        "\n",
        "        return tree_count\n"
      ],
      "metadata": {
        "id": "WjQPLyTeR4jY"
      },
      "execution_count": 13,
      "outputs": []
    },
    {
      "cell_type": "markdown",
      "source": [
        "### 5. Detect Cycle in a Directed Graph"
      ],
      "metadata": {
        "id": "xqapLx92TP01"
      }
    },
    {
      "cell_type": "code",
      "source": [
        "from collections import defaultdict\n",
        "\n",
        "class Graph:\n",
        "    def __init__(self):\n",
        "        self.graph = defaultdict(list)\n",
        "\n",
        "    def add_edge(self, u, v):\n",
        "        self.graph[u].append(v)\n",
        "\n",
        "    def is_cyclic_util(self, node, visited, recursion_stack):\n",
        "        visited[node] = True\n",
        "        recursion_stack[node] = True\n",
        "\n",
        "        for neighbor in self.graph[node]:\n",
        "            if not visited[neighbor]:\n",
        "                if self.is_cyclic_util(neighbor, visited, recursion_stack):\n",
        "                    return True\n",
        "            elif recursion_stack[neighbor]:\n",
        "                return True\n",
        "\n",
        "        recursion_stack[node] = False\n",
        "        return False\n",
        "\n",
        "    def is_cyclic(self):\n",
        "        visited = [False] * len(self.graph)\n",
        "        recursion_stack = [False] * len(self.graph)\n",
        "\n",
        "        for node in self.graph:\n",
        "            if not visited[node]:\n",
        "                if self.is_cyclic_util(node, visited, recursion_stack):\n",
        "                    return True\n",
        "\n",
        "        return False"
      ],
      "metadata": {
        "id": "BOHfjQabTQN0"
      },
      "execution_count": 14,
      "outputs": []
    },
    {
      "cell_type": "markdown",
      "source": [
        "# Misc. Question\n",
        "### Implement n-Queen’s Problem"
      ],
      "metadata": {
        "id": "8EPeaLxHVGhq"
      }
    },
    {
      "cell_type": "code",
      "source": [
        "def is_safe(board, row, col, n):\n",
        "    # Check for queens in the current row\n",
        "    for i in range(col):\n",
        "        if board[row][i] == 1:\n",
        "            return False\n",
        "\n",
        "    # Check for queens in the upper diagonal on the left side\n",
        "    for i, j in zip(range(row, -1, -1), range(col, -1, -1)):\n",
        "        if board[i][j] == 1:\n",
        "            return False\n",
        "\n",
        "    # Check for queens in the lower diagonal on the left side\n",
        "    for i, j in zip(range(row, n, 1), range(col, -1, -1)):\n",
        "        if board[i][j] == 1:\n",
        "            return False\n",
        "\n",
        "    return True\n",
        "\n",
        "def solve_n_queens_util(board, col, n, solutions):\n",
        "    if col == n:\n",
        "        # If all queens are placed, add the solution to the list\n",
        "        solutions.append([''.join(['Q' if cell == 1 else '.' for cell in row]) for row in board])\n",
        "        return\n",
        "\n",
        "    for i in range(n):\n",
        "        if is_safe(board, i, col, n):\n",
        "            board[i][col] = 1\n",
        "            solve_n_queens_util(board, col + 1, n, solutions)\n",
        "            board[i][col] = 0\n",
        "\n",
        "def solve_n_queens(n):\n",
        "    board = [[0 for _ in range(n)] for _ in range(n)]\n",
        "    solutions = []\n",
        "    solve_n_queens_util(board, 0, n, solutions)\n",
        "    return solutions\n",
        "\n",
        "def print_solutions(solutions):\n",
        "    for idx, solution in enumerate(solutions):\n",
        "        print(f\"Solution {idx + 1}:\")\n",
        "        for row in solution:\n",
        "            print(row)\n",
        "        print()\n",
        "\n",
        "def main():\n",
        "    try:\n",
        "        n = int(input(\"Enter the value of n for the n-Queens problem: \"))\n",
        "        if n <= 0:\n",
        "            print(\"Please enter a positive integer for n.\")\n",
        "            return\n",
        "        solutions = solve_n_queens(n)\n",
        "        print_solutions(solutions)\n",
        "        print(f\"Total number of solutions: {len(solutions)}\")\n",
        "    except ValueError:\n",
        "        print(\"Invalid input! Please enter a valid positive integer for n.\")\n",
        "\n",
        "if __name__ == \"__main__\":\n",
        "    main()\n"
      ],
      "metadata": {
        "colab": {
          "base_uri": "https://localhost:8080/"
        },
        "id": "jx4rZ4W4VGuy",
        "outputId": "6783d93e-306e-4cae-e516-3e5dce4859f4"
      },
      "execution_count": 18,
      "outputs": [
        {
          "output_type": "stream",
          "name": "stdout",
          "text": [
            "Enter the value of n for the n-Queens problem: 4\n",
            "Solution 1:\n",
            "..Q.\n",
            "Q...\n",
            "...Q\n",
            ".Q..\n",
            "\n",
            "Solution 2:\n",
            ".Q..\n",
            "...Q\n",
            "Q...\n",
            "..Q.\n",
            "\n",
            "Total number of solutions: 2\n"
          ]
        }
      ]
    }
  ]
}