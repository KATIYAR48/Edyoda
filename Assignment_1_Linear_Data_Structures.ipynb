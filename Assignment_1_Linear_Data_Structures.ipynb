{
  "nbformat": 4,
  "nbformat_minor": 0,
  "metadata": {
    "colab": {
      "provenance": [],
      "authorship_tag": "ABX9TyNpCm0gzZyLI0igJy25WySN"
    },
    "kernelspec": {
      "name": "python3",
      "display_name": "Python 3"
    },
    "language_info": {
      "name": "python"
    }
  },
  "cells": [
    {
      "cell_type": "markdown",
      "source": [
        "## **1. Delete the elements in an linked list whose sum is equal to zero**"
      ],
      "metadata": {
        "id": "bbwUy1D_r4xO"
      }
    },
    {
      "cell_type": "code",
      "source": [
        "class Node:\n",
        "    def __init__(self, data):\n",
        "        self.data = data\n",
        "        self.next = None\n",
        "\n",
        "def delete_zero_sum_sublists(head):\n",
        "    def get_prefix_sum_list(head):\n",
        "        prefix_sum_list = []\n",
        "        prefix_sum = 0\n",
        "        while head:\n",
        "            prefix_sum += head.data\n",
        "            prefix_sum_list.append(prefix_sum)\n",
        "            head = head.next\n",
        "        return prefix_sum_list\n",
        "\n",
        "    prefix_sum_set = set()\n",
        "    dummy = Node(0)\n",
        "    dummy.next = head\n",
        "    current = dummy\n",
        "    prefix_sum_list = get_prefix_sum_list(head)\n",
        "\n",
        "    while current:\n",
        "        prefix_sum_set.add(prefix_sum_list[-1])\n",
        "        if prefix_sum_list[-1] in prefix_sum_set:\n",
        "            temp = current.next\n",
        "            while temp:\n",
        "                prefix_sum_set.remove(prefix_sum_list.pop())\n",
        "                temp = temp.next\n",
        "            current.next = temp\n",
        "        current = current.next\n",
        "\n",
        "    return dummy.next\n"
      ],
      "metadata": {
        "id": "kzSLc5JntQ4f"
      },
      "execution_count": 1,
      "outputs": []
    },
    {
      "cell_type": "markdown",
      "source": [
        "## **2. Reverse a linked list in groups of given size**"
      ],
      "metadata": {
        "id": "0WxlwUxEsAiK"
      }
    },
    {
      "cell_type": "code",
      "source": [
        "class Node:\n",
        "    def __init__(self, data):\n",
        "        self.data = data\n",
        "        self.next = None\n",
        "\n",
        "def reverse_linked_list_in_groups(head, k):\n",
        "    def reverse_sublist(start, end):\n",
        "        prev, current = None, start\n",
        "        while current != end:\n",
        "            temp = current.next\n",
        "            current.next = prev\n",
        "            prev = current\n",
        "            current = temp\n",
        "        return prev\n",
        "\n",
        "    dummy = Node(0)\n",
        "    dummy.next = head\n",
        "    prev_group_end, current = dummy, head\n",
        "    while current:\n",
        "        tail = current\n",
        "        for i in range(k):\n",
        "            if not tail:\n",
        "                break\n",
        "            tail = tail.next\n",
        "\n",
        "        if not tail:\n",
        "            break\n",
        "\n",
        "        next_group_start = tail.next\n",
        "        reversed_head = reverse_sublist(current, tail)\n",
        "        prev_group_end.next = reversed_head\n",
        "        prev_group_end = current\n",
        "        current = next_group_start\n",
        "\n",
        "    return dummy.next\n"
      ],
      "metadata": {
        "id": "sZFiR3XPtRwP"
      },
      "execution_count": 2,
      "outputs": []
    },
    {
      "cell_type": "markdown",
      "source": [
        "## **3. Merge a linked list into another linked list at alternate positions.**"
      ],
      "metadata": {
        "id": "I95wOfuzsMFd"
      }
    },
    {
      "cell_type": "code",
      "source": [
        "class Node:\n",
        "    def __init__(self, data):\n",
        "        self.data = data\n",
        "        self.next = None\n",
        "\n",
        "def merge_alternate(head1, head2):\n",
        "    current1, current2 = head1, head2\n",
        "    while current1 and current2:\n",
        "        temp1, temp2 = current1.next, current2.next\n",
        "        current1.next = current2\n",
        "        current2.next = temp1\n",
        "        current1, current2 = temp1, temp2\n",
        "    return head1\n"
      ],
      "metadata": {
        "id": "KkmaC6zntSfA"
      },
      "execution_count": 3,
      "outputs": []
    },
    {
      "cell_type": "markdown",
      "source": [
        "## **4. In an array, Count Pairs with given sum**"
      ],
      "metadata": {
        "id": "5DY1CBrxsSL-"
      }
    },
    {
      "cell_type": "code",
      "source": [
        "def count_pairs_with_sum(arr, target_sum):\n",
        "    count = 0\n",
        "    num_dict = {}\n",
        "    for num in arr:\n",
        "        complement = target_sum - num\n",
        "        count += num_dict.get(complement, 0)\n",
        "        num_dict[num] = num_dict.get(num, 0) + 1\n",
        "    return count\n"
      ],
      "metadata": {
        "id": "d23XdtajtTQA"
      },
      "execution_count": 4,
      "outputs": []
    },
    {
      "cell_type": "markdown",
      "source": [
        "## **5. Find duplicates in an array**"
      ],
      "metadata": {
        "id": "esBn2GWtscn-"
      }
    },
    {
      "cell_type": "code",
      "source": [
        "def find_duplicates(arr):\n",
        "    duplicates = set()\n",
        "    seen = set()\n",
        "    for num in arr:\n",
        "        if num in seen:\n",
        "            duplicates.add(num)\n",
        "        else:\n",
        "            seen.add(num)\n",
        "    return list(duplicates)\n"
      ],
      "metadata": {
        "id": "x4USps6ftUm3"
      },
      "execution_count": 5,
      "outputs": []
    },
    {
      "cell_type": "markdown",
      "source": [
        "## **6. Find the Kth largest and Kth smallest number in an array**"
      ],
      "metadata": {
        "id": "IRkHwTpTshA-"
      }
    },
    {
      "cell_type": "code",
      "source": [
        "def find_kth_largest_smallest(arr, k):\n",
        "    sorted_arr = sorted(arr)\n",
        "    return sorted_arr[k - 1], sorted_arr[-k]\n"
      ],
      "metadata": {
        "id": "Dc08kIeItVev"
      },
      "execution_count": 6,
      "outputs": []
    },
    {
      "cell_type": "markdown",
      "source": [
        "## **7. Move all the negative elements to one side of the array**"
      ],
      "metadata": {
        "id": "JVxaMpTHsm_9"
      }
    },
    {
      "cell_type": "code",
      "source": [
        "def move_negatives_to_one_side(arr):\n",
        "    left, right = 0, len(arr) - 1\n",
        "    while left <= right:\n",
        "        if arr[left] < 0 and arr[right] < 0:\n",
        "            left += 1\n",
        "        elif arr[left] >= 0 and arr[right] < 0:\n",
        "            arr[left], arr[right] = arr[right], arr[left]\n",
        "            left += 1\n",
        "            right -= 1\n",
        "        elif arr[left] >= 0 and arr[right] >= 0:\n",
        "            right -= 1\n",
        "        else:\n",
        "            left += 1\n",
        "            right -= 1\n",
        "    return arr\n"
      ],
      "metadata": {
        "id": "fiVfYaGAtWJH"
      },
      "execution_count": 7,
      "outputs": []
    },
    {
      "cell_type": "markdown",
      "source": [
        "## **8. Reverse a string using a stack data structure**"
      ],
      "metadata": {
        "id": "lEleOKdNsqwu"
      }
    },
    {
      "cell_type": "code",
      "source": [
        "def reverse_string(s):\n",
        "    stack = []\n",
        "    for char in s:\n",
        "        stack.append(char)\n",
        "    reversed_str = ''\n",
        "    while stack:\n",
        "        reversed_str += stack.pop()\n",
        "    return reversed_str\n"
      ],
      "metadata": {
        "id": "RUGES8nGtWzn"
      },
      "execution_count": 8,
      "outputs": []
    },
    {
      "cell_type": "markdown",
      "source": [
        "## **9. Evaluate a postfix expression using stack**"
      ],
      "metadata": {
        "id": "ojIfUx4cswT1"
      }
    },
    {
      "cell_type": "code",
      "source": [
        "def evaluate_postfix(expression):\n",
        "    stack = []\n",
        "    operators = {'+', '-', '*', '/'}\n",
        "    for token in expression.split():\n",
        "        if token not in operators:\n",
        "            stack.append(int(token))\n",
        "        else:\n",
        "            operand2 = stack.pop()\n",
        "            operand1 = stack.pop()\n",
        "            if token == '+':\n",
        "                stack.append(operand1 + operand2)\n",
        "            elif token == '-':\n",
        "                stack.append(operand1 - operand2)\n",
        "            elif token == '*':\n",
        "                stack.append(operand1 * operand2)\n",
        "            elif token == '/':\n",
        "                stack.append(operand1 / operand2)\n",
        "    return stack[0]\n"
      ],
      "metadata": {
        "id": "q3bM47VKtXV2"
      },
      "execution_count": 9,
      "outputs": []
    },
    {
      "cell_type": "markdown",
      "source": [
        "## **10. Implement a queue using the stack data structure**"
      ],
      "metadata": {
        "id": "dLEZREZDs0Cm"
      }
    },
    {
      "cell_type": "code",
      "source": [
        "class MyQueue:\n",
        "    def __init__(self):\n",
        "        self.stack1 = []\n",
        "        self.stack2 = []\n",
        "\n",
        "    def push(self, value):\n",
        "        while self.stack1:\n",
        "            self.stack2.append(self.stack1.pop())\n",
        "        self.stack1.append(value)\n",
        "        while self.stack2:\n",
        "            self.stack1.append(self.stack2.pop())\n",
        "\n",
        "    def pop(self):\n",
        "        if not self.stack1:\n",
        "            return None\n",
        "        return self.stack1.pop()\n",
        "\n",
        "    def peek(self):\n",
        "        if not self.stack1:\n",
        "            return None\n",
        "        return self.stack1[-1]\n",
        "\n",
        "    def is_empty(self):\n",
        "        return not bool(self.stack1)\n"
      ],
      "metadata": {
        "id": "djOsWzXDtX9P"
      },
      "execution_count": 10,
      "outputs": []
    }
  ]
}