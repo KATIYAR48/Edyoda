{
  "nbformat": 4,
  "nbformat_minor": 0,
  "metadata": {
    "colab": {
      "provenance": [],
      "authorship_tag": "ABX9TyOD2T67rtdAuPf+PY2UFkbw"
    },
    "kernelspec": {
      "name": "python3",
      "display_name": "Python 3"
    },
    "language_info": {
      "name": "python"
    }
  },
  "cells": [
    {
      "cell_type": "markdown",
      "source": [
        "## **1. Implement Binary tree**"
      ],
      "metadata": {
        "id": "ej3-1OP48mGR"
      }
    },
    {
      "cell_type": "code",
      "source": [
        "class Node:\n",
        "    def __init__(self, key):\n",
        "        self.left = None\n",
        "        self.right = None\n",
        "        self.val = key\n",
        "\n",
        "class BinaryTree:\n",
        "    def __init__(self):\n",
        "        self.root = None\n"
      ],
      "metadata": {
        "id": "IF7YeTt59Ybs"
      },
      "execution_count": 1,
      "outputs": []
    },
    {
      "cell_type": "markdown",
      "source": [
        "## **2. Find height of a given tree**"
      ],
      "metadata": {
        "id": "2an9cR0i8q7z"
      }
    },
    {
      "cell_type": "code",
      "source": [
        "def find_height(root):\n",
        "    if root is None:\n",
        "        return -1\n",
        "    else:\n",
        "        left_height = find_height(root.left)\n",
        "        right_height = find_height(root.right)\n",
        "        return max(left_height, right_height) + 1\n"
      ],
      "metadata": {
        "id": "Os5TH2bB9Zmh"
      },
      "execution_count": 2,
      "outputs": []
    },
    {
      "cell_type": "markdown",
      "source": [
        "## **3. Perform Pre-order, Post-order, In-order traversal**"
      ],
      "metadata": {
        "id": "erDSg-z98yW_"
      }
    },
    {
      "cell_type": "code",
      "source": [
        "def pre_order_traversal(root):\n",
        "    if root:\n",
        "        print(root.val, end=\" \")\n",
        "        pre_order_traversal(root.left)\n",
        "        pre_order_traversal(root.right)\n",
        "\n",
        "def post_order_traversal(root):\n",
        "    if root:\n",
        "        post_order_traversal(root.left)\n",
        "        post_order_traversal(root.right)\n",
        "        print(root.val, end=\" \")\n",
        "\n",
        "def in_order_traversal(root):\n",
        "    if root:\n",
        "        in_order_traversal(root.left)\n",
        "        print(root.val, end=\" \")\n",
        "        in_order_traversal(root.right)\n"
      ],
      "metadata": {
        "id": "_eBYMXcF9aKi"
      },
      "execution_count": 3,
      "outputs": []
    },
    {
      "cell_type": "markdown",
      "source": [
        "## **4. Function to print all the leaves in a given binary tree**"
      ],
      "metadata": {
        "id": "VBoeKZVM84e_"
      }
    },
    {
      "cell_type": "code",
      "source": [
        "def print_leaves(root):\n",
        "    if root is not None:\n",
        "        if root.left is None and root.right is None:\n",
        "            print(root.val, end=\" \")\n",
        "        print_leaves(root.left)\n",
        "        print_leaves(root.right)\n"
      ],
      "metadata": {
        "id": "s6o1OrTa9ayp"
      },
      "execution_count": 4,
      "outputs": []
    },
    {
      "cell_type": "markdown",
      "source": [
        "## **5. Implement BFS (Breath First Search) and DFS (Depth First Search)**"
      ],
      "metadata": {
        "id": "4Ecrk5Kv89hC"
      }
    },
    {
      "cell_type": "code",
      "source": [
        "from collections import deque\n",
        "\n",
        "def bfs(root):\n",
        "    if root is None:\n",
        "        return\n",
        "\n",
        "    queue = deque()\n",
        "    queue.append(root)\n",
        "\n",
        "    while queue:\n",
        "        node = queue.popleft()\n",
        "        print(node.val, end=\" \")\n",
        "        if node.left:\n",
        "            queue.append(node.left)\n",
        "        if node.right:\n",
        "            queue.append(node.right)\n",
        "\n",
        "def dfs(root):\n",
        "    if root:\n",
        "        print(root.val, end=\" \")\n",
        "        dfs(root.left)\n",
        "        dfs(root.right)\n"
      ],
      "metadata": {
        "id": "T2Wt3PLp9bsB"
      },
      "execution_count": 5,
      "outputs": []
    },
    {
      "cell_type": "markdown",
      "source": [
        "## **6. Find sum of all left leaves in a given Binary Tree**"
      ],
      "metadata": {
        "id": "yX2po3mM9Bmy"
      }
    },
    {
      "cell_type": "code",
      "source": [
        "def sum_of_left_leaves(root):\n",
        "    if root is None:\n",
        "        return 0\n",
        "\n",
        "    left_sum = sum_of_left_leaves(root.left)\n",
        "    right_sum = sum_of_left_leaves(root.right)\n",
        "\n",
        "    if root.left and root.left.left is None and root.left.right is None:\n",
        "        return root.left.val + left_sum + right_sum\n",
        "    else:\n",
        "        return left_sum + right_sum\n"
      ],
      "metadata": {
        "id": "ZGa7bXbD9cPq"
      },
      "execution_count": 6,
      "outputs": []
    },
    {
      "cell_type": "markdown",
      "source": [
        "## **7. Find sum of all nodes of the given perfect binary tree**"
      ],
      "metadata": {
        "id": "nyt3oHIf9Fka"
      }
    },
    {
      "cell_type": "code",
      "source": [
        "def sum_perfect_binary_tree(height):\n",
        "    if height == 0:\n",
        "        return 1\n",
        "    else:\n",
        "        return (2 ** height) + sum_perfect_binary_tree(height - 1)\n"
      ],
      "metadata": {
        "id": "s0gf-E5i9dIJ"
      },
      "execution_count": 7,
      "outputs": []
    },
    {
      "cell_type": "markdown",
      "source": [
        "## **8. Count subtress that sum up to a given value x in a binary tree**"
      ],
      "metadata": {
        "id": "kEZTHq059Jvj"
      }
    },
    {
      "cell_type": "code",
      "source": [
        "def count_subtrees_with_sum(root, target_sum):\n",
        "    def helper(node):\n",
        "        nonlocal count\n",
        "        if not node:\n",
        "            return 0\n",
        "\n",
        "        left_sum = helper(node.left)\n",
        "        right_sum = helper(node.right)\n",
        "        total_sum = left_sum + right_sum + node.val\n",
        "\n",
        "        if total_sum == target_sum:\n",
        "            count += 1\n",
        "\n",
        "        return total_sum\n",
        "\n",
        "    count = 0\n",
        "    helper(root)\n",
        "    return count\n"
      ],
      "metadata": {
        "id": "PvpY-PYs9frJ"
      },
      "execution_count": 8,
      "outputs": []
    },
    {
      "cell_type": "markdown",
      "source": [
        "## **9. Find maximum level sum in Binary Tree**"
      ],
      "metadata": {
        "id": "Mhpb3Ym69Noh"
      }
    },
    {
      "cell_type": "code",
      "source": [
        "from collections import deque\n",
        "\n",
        "def max_level_sum(root):\n",
        "    if root is None:\n",
        "        return 0\n",
        "\n",
        "    max_sum = float('-inf')\n",
        "    queue = deque()\n",
        "    queue.append(root)\n",
        "\n",
        "    while queue:\n",
        "        level_sum = 0\n",
        "        level_size = len(queue)\n",
        "\n",
        "        for _ in range(level_size):\n",
        "            node = queue.popleft()\n",
        "            level_sum += node.val\n",
        "\n",
        "            if node.left:\n",
        "                queue.append(node.left)\n",
        "            if node.right:\n",
        "                queue.append(node.right)\n",
        "\n",
        "        max_sum = max(max_sum, level_sum)\n",
        "\n",
        "    return max_sum\n"
      ],
      "metadata": {
        "id": "MR4vDG419gSh"
      },
      "execution_count": 9,
      "outputs": []
    },
    {
      "cell_type": "markdown",
      "source": [
        "## **10. Print the nodes at odd levels of a tree**"
      ],
      "metadata": {
        "id": "7UbXEmGp9S8k"
      }
    },
    {
      "cell_type": "code",
      "source": [
        "def print_odd_level_nodes(root):\n",
        "    if root is None:\n",
        "        return\n",
        "\n",
        "    queue = deque()\n",
        "    queue.append(root)\n",
        "    is_odd_level = False\n",
        "\n",
        "    while queue:\n",
        "        level_size = len(queue)\n",
        "\n",
        "        for _ in range(level_size):\n",
        "            node = queue.popleft()\n",
        "            if is_odd_level:\n",
        "                print(node.val, end=\" \")\n",
        "\n",
        "            if node.left:\n",
        "                queue.append(node.left)\n",
        "            if node.right:\n",
        "                queue.append(node.right)\n",
        "\n",
        "        is_odd_level = not is_odd_level\n"
      ],
      "metadata": {
        "id": "QvoSKP129gz5"
      },
      "execution_count": 10,
      "outputs": []
    }
  ]
}