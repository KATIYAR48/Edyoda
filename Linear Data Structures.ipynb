{
  "nbformat": 4,
  "nbformat_minor": 0,
  "metadata": {
    "colab": {
      "provenance": [],
      "authorship_tag": "ABX9TyM7SoW43rc4+AtS4Sa5WtD5"
    },
    "kernelspec": {
      "name": "python3",
      "display_name": "Python 3"
    },
    "language_info": {
      "name": "python"
    }
  },
  "cells": [
    {
      "cell_type": "markdown",
      "source": [
        "**Q1. Write a program to find all pairs of an integer array whose sum is equal to a given number?**"
      ],
      "metadata": {
        "id": "tDHpkNLdUQzx"
      }
    },
    {
      "cell_type": "code",
      "execution_count": 1,
      "metadata": {
        "colab": {
          "base_uri": "https://localhost:8080/"
        },
        "id": "BTgETmIyUIOv",
        "outputId": "99b8cb02-2c14-4b72-f540-bbd79fe855cd"
      },
      "outputs": [
        {
          "output_type": "stream",
          "name": "stdout",
          "text": [
            "[(4, 3), (5, 2)]\n"
          ]
        }
      ],
      "source": [
        "def find_pairs_with_sum(arr, target_sum):\n",
        "    pairs = []\n",
        "    seen = set()\n",
        "\n",
        "    for num in arr:\n",
        "        complement = target_sum - num\n",
        "        if complement in seen:\n",
        "            pairs.append((num, complement))\n",
        "        seen.add(num)\n",
        "\n",
        "    return pairs\n",
        "\n",
        "# Example usage:\n",
        "arr = [1, 2, 3, 4, 5]\n",
        "target_sum = 7\n",
        "print(find_pairs_with_sum(arr, target_sum))\n"
      ]
    },
    {
      "cell_type": "markdown",
      "source": [
        "**Q2. Write a program to reverse an array in place? In place means you cannot create a new array. You have to update the original array.**\n",
        "\n"
      ],
      "metadata": {
        "id": "lgYSjGHbUcaB"
      }
    },
    {
      "cell_type": "code",
      "source": [
        "def reverse_array_in_place(arr):\n",
        "    left = 0\n",
        "    right = len(arr) - 1\n",
        "\n",
        "    while left < right:\n",
        "        arr[left], arr[right] = arr[right], arr[left]\n",
        "        left += 1\n",
        "        right -= 1\n",
        "\n",
        "# Example usage:\n",
        "arr = [1, 2, 3, 4, 5]\n",
        "reverse_array_in_place(arr)\n",
        "print(arr)\n"
      ],
      "metadata": {
        "colab": {
          "base_uri": "https://localhost:8080/"
        },
        "id": "9jnKBtE0Uh3Y",
        "outputId": "9ae8851d-5a1d-42b7-ec5a-ddd212fb25b5"
      },
      "execution_count": 2,
      "outputs": [
        {
          "output_type": "stream",
          "name": "stdout",
          "text": [
            "[5, 4, 3, 2, 1]\n"
          ]
        }
      ]
    },
    {
      "cell_type": "markdown",
      "source": [
        "**Q3. Write a program to check if two strings are a rotation of each other?**\n"
      ],
      "metadata": {
        "id": "6_GPRKjbUlIY"
      }
    },
    {
      "cell_type": "code",
      "source": [
        "def are_strings_rotation(str1, str2):\n",
        "    if len(str1) != len(str2):\n",
        "        return False\n",
        "\n",
        "    return str2 in (str1 + str1)\n",
        "\n",
        "# Example usage:\n",
        "str1 = \"hello\"\n",
        "str2 = \"lohel\"\n",
        "print(are_strings_rotation(str1, str2))\n"
      ],
      "metadata": {
        "colab": {
          "base_uri": "https://localhost:8080/"
        },
        "id": "c6K4la95UpGh",
        "outputId": "3c42a7e6-040e-45f8-db9a-5a13576e42a8"
      },
      "execution_count": 3,
      "outputs": [
        {
          "output_type": "stream",
          "name": "stdout",
          "text": [
            "True\n"
          ]
        }
      ]
    },
    {
      "cell_type": "markdown",
      "source": [
        "**Q4. Write a program to print the first non-repeated character from a string?**"
      ],
      "metadata": {
        "id": "2Xuak-EsVODw"
      }
    },
    {
      "cell_type": "code",
      "source": [
        "def first_non_repeated_character(s):\n",
        "    char_count = {}\n",
        "\n",
        "    for char in s:\n",
        "        char_count[char] = char_count.get(char, 0) + 1\n",
        "\n",
        "    for char in s:\n",
        "        if char_count[char] == 1:\n",
        "            return char\n",
        "\n",
        "    return None\n",
        "\n",
        "# Example usage:\n",
        "s = \"abacddbe\"\n",
        "print(first_non_repeated_character(s))\n"
      ],
      "metadata": {
        "colab": {
          "base_uri": "https://localhost:8080/"
        },
        "id": "WAB10S_gVWtM",
        "outputId": "83868e41-2e43-4dbe-f1d4-7a0edf04dcd5"
      },
      "execution_count": 4,
      "outputs": [
        {
          "output_type": "stream",
          "name": "stdout",
          "text": [
            "c\n"
          ]
        }
      ]
    },
    {
      "cell_type": "markdown",
      "source": [
        "**Q5. Read about the Tower of Hanoi algorithm. Write a program to implement it**"
      ],
      "metadata": {
        "id": "xggxbRZ8VaOX"
      }
    },
    {
      "cell_type": "code",
      "source": [
        "def tower_of_hanoi(n, source, auxiliary, target):\n",
        "    if n == 1:\n",
        "        print(f\"Move disk 1 from {source} to {target}\")\n",
        "        return\n",
        "\n",
        "    tower_of_hanoi(n - 1, source, target, auxiliary)\n",
        "    print(f\"Move disk {n} from {source} to {target}\")\n",
        "    tower_of_hanoi(n - 1, auxiliary, source, target)\n",
        "\n",
        "# Example usage:\n",
        "num_disks = 3\n",
        "tower_of_hanoi(num_disks, 'A', 'B', 'C')\n"
      ],
      "metadata": {
        "colab": {
          "base_uri": "https://localhost:8080/"
        },
        "id": "ibaA8aMUVf3R",
        "outputId": "a8df0c05-98bf-49e6-f22b-8920e270cb6a"
      },
      "execution_count": 5,
      "outputs": [
        {
          "output_type": "stream",
          "name": "stdout",
          "text": [
            "Move disk 1 from A to C\n",
            "Move disk 2 from A to B\n",
            "Move disk 1 from C to B\n",
            "Move disk 3 from A to C\n",
            "Move disk 1 from B to A\n",
            "Move disk 2 from B to C\n",
            "Move disk 1 from A to C\n"
          ]
        }
      ]
    },
    {
      "cell_type": "markdown",
      "source": [
        "**Q6. Read about infix, prefix, and postfix expressions. Write a program to convert postfix to prefix expression.**"
      ],
      "metadata": {
        "id": "KzpCKPZQV3eD"
      }
    },
    {
      "cell_type": "code",
      "source": [
        "def is_operator(char):\n",
        "    return char in \"+-*/\"\n",
        "\n",
        "def postfix_to_prefix(postfix_expr):\n",
        "    stack = []\n",
        "    for token in postfix_expr:\n",
        "        if not is_operator(token):\n",
        "            stack.append(token)\n",
        "        else:\n",
        "            operand2 = stack.pop()\n",
        "            operand1 = stack.pop()\n",
        "            stack.append(token + operand1 + operand2)\n",
        "\n",
        "    return stack[0]\n",
        "\n",
        "# Example usage:\n",
        "postfix_expr = \"ABC/-AK/L-*\"\n",
        "prefix_expr = postfix_to_prefix(postfix_expr)\n",
        "print(prefix_expr)\n"
      ],
      "metadata": {
        "colab": {
          "base_uri": "https://localhost:8080/"
        },
        "id": "mbS-6PZaVxxW",
        "outputId": "b36c8664-7dd0-4dd8-ef88-75ceb42d9677"
      },
      "execution_count": 6,
      "outputs": [
        {
          "output_type": "stream",
          "name": "stdout",
          "text": [
            "*-A/BC-/AKL\n"
          ]
        }
      ]
    },
    {
      "cell_type": "markdown",
      "source": [
        "**Q7. Write a program to convert prefix expression to infix expression.**"
      ],
      "metadata": {
        "id": "xcU79fmgWAWA"
      }
    },
    {
      "cell_type": "code",
      "source": [
        "def is_operator(char):\n",
        "    return char in \"+-*/\"\n",
        "\n",
        "def prefix_to_infix(prefix_expr):\n",
        "    stack = []\n",
        "    for token in reversed(prefix_expr):\n",
        "        if not is_operator(token):\n",
        "            stack.append(token)\n",
        "        else:\n",
        "            operand1 = stack.pop()\n",
        "            operand2 = stack.pop()\n",
        "            stack.append(f\"({operand1}{token}{operand2})\")\n",
        "\n",
        "    return stack[0]\n",
        "\n",
        "# Example usage:\n",
        "prefix_expr = \"*-A/BC-/AKL\"\n",
        "infix_expr = prefix_to_infix(prefix_expr)\n",
        "print(infix_expr)\n"
      ],
      "metadata": {
        "colab": {
          "base_uri": "https://localhost:8080/"
        },
        "id": "8Ss8ZFOWWFKb",
        "outputId": "824b4337-4671-4650-c7fc-3ffb7ab94c1c"
      },
      "execution_count": 7,
      "outputs": [
        {
          "output_type": "stream",
          "name": "stdout",
          "text": [
            "((A-(B/C))*((A/K)-L))\n"
          ]
        }
      ]
    },
    {
      "cell_type": "markdown",
      "source": [
        "**Q8. Write a program to check if all the brackets are closed in a given code snippet.**"
      ],
      "metadata": {
        "id": "AGbQm3DbWSi7"
      }
    },
    {
      "cell_type": "code",
      "source": [
        "def are_brackets_closed(code):\n",
        "    stack = []\n",
        "    opening_brackets = \"({[\"\n",
        "    closing_brackets = \")}]\"\n",
        "\n",
        "    for char in code:\n",
        "        if char in opening_brackets:\n",
        "            stack.append(char)\n",
        "        elif char in closing_brackets:\n",
        "            if not stack or opening_brackets.index(stack.pop()) != closing_brackets.index(char):\n",
        "                return False\n",
        "\n",
        "    return len(stack) == 0\n",
        "\n",
        "# Example usage:\n",
        "code_snippet = \"{(a + b) * [c - d]}\"\n",
        "print(are_brackets_closed(code_snippet))\n"
      ],
      "metadata": {
        "colab": {
          "base_uri": "https://localhost:8080/"
        },
        "id": "iYSQCrAuWXLk",
        "outputId": "e5775077-0279-4c99-9808-ab0baaae2ad7"
      },
      "execution_count": 8,
      "outputs": [
        {
          "output_type": "stream",
          "name": "stdout",
          "text": [
            "True\n"
          ]
        }
      ]
    },
    {
      "cell_type": "markdown",
      "source": [
        "**Q9. Write a program to reverse a stack.**"
      ],
      "metadata": {
        "id": "CkzPIHgCWaXG"
      }
    },
    {
      "cell_type": "code",
      "source": [
        "def reverse_stack(stack):\n",
        "    if not stack:\n",
        "        return\n",
        "\n",
        "    temp = stack.pop()\n",
        "    reverse_stack(stack)\n",
        "    insert_at_bottom(stack, temp)\n",
        "\n",
        "def insert_at_bottom(stack, item):\n",
        "    if not stack:\n",
        "        stack.append(item)\n",
        "        return\n",
        "\n",
        "    temp = stack.pop()\n",
        "    insert_at_bottom(stack, item)\n",
        "    stack.append(temp)\n",
        "\n",
        "# Example usage:\n",
        "stack = [1, 2, 3, 4, 5]\n",
        "reverse_stack(stack)\n",
        "print(stack)\n"
      ],
      "metadata": {
        "colab": {
          "base_uri": "https://localhost:8080/"
        },
        "id": "MWBPKMAbWfl9",
        "outputId": "e24b0b35-e32a-4fbd-961f-6962657e6212"
      },
      "execution_count": 9,
      "outputs": [
        {
          "output_type": "stream",
          "name": "stdout",
          "text": [
            "[5, 4, 3, 2, 1]\n"
          ]
        }
      ]
    },
    {
      "cell_type": "markdown",
      "source": [
        "**Q10. Write a program to find the smallest number using a stack.**"
      ],
      "metadata": {
        "id": "_AdAQ04vWix0"
      }
    },
    {
      "cell_type": "code",
      "source": [
        "def find_smallest(stack):\n",
        "    if not stack:\n",
        "        return None\n",
        "\n",
        "    smallest = stack.pop()\n",
        "    if not stack:\n",
        "        return smallest\n",
        "\n",
        "    temp = find_smallest(stack)\n",
        "    if temp < smallest:\n",
        "        stack.append(smallest)\n",
        "        return temp\n",
        "    else:\n",
        "        stack.append(temp)\n",
        "        return smallest\n",
        "\n",
        "# Example usage:\n",
        "stack = [5, 3, 7, 1, 8, 2]\n",
        "print(find_smallest(stack))\n"
      ],
      "metadata": {
        "colab": {
          "base_uri": "https://localhost:8080/"
        },
        "id": "dfBxQbl6WnIC",
        "outputId": "375956e7-567b-441d-ddc1-a302866c2683"
      },
      "execution_count": 10,
      "outputs": [
        {
          "output_type": "stream",
          "name": "stdout",
          "text": [
            "1\n"
          ]
        }
      ]
    }
  ]
}